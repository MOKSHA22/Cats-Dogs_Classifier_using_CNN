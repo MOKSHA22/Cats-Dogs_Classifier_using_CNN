{
 "cells": [
  {
   "cell_type": "code",
   "execution_count": null,
   "metadata": {},
   "outputs": [],
   "source": [
    "import os\n",
    "import cv2\n",
    "import numpy as np\n",
    "\n",
    "path='PetImages'\n",
    "\n",
    "categories=os.listdir(path)\n",
    "labels=list(range(len(categories)))\n",
    "# dynamic folder creation\n",
    "\n",
    "print(categories) # 0 to n\n",
    "print(labels)\n",
    "\n",
    "categoryDict=dict(zip(categories,labels))\n",
    "# keys and values inserted to the dictionary\n"
   ]
  },
  {
   "cell_type": "code",
   "execution_count": null,
   "metadata": {},
   "outputs": [],
   "source": [
    "size=50\n",
    "dataset=[]\n",
    "\n",
    "for category in categories:\n",
    "    imgs_path=os.path.join(path,category)\n",
    "    #print(imgs_path)\n",
    "    # joining the images path\n",
    "    \n",
    "    imgs_names=os.listdir(imgs_path)\n",
    "    #print(len(imgs_name))\n",
    "    # number of images\n",
    "    \n",
    "    for img_name in imgs_names:\n",
    "        img_path=os.path.join(imgs_path,img_name)\n",
    "        img=cv2.imread(img_path)\n",
    "        \n",
    "        try:\n",
    "            gray=cv2.cvtcolor(img,cv2.COLOR_BGR2GRAY)\n",
    "            gray=cv2.resize(gray,(size,size))\n",
    "            dataset.append([gray,categoryDict[category]])\n",
    "        \n",
    "        except Exception as e:\n",
    "            print(e)\n"
   ]
  },
  {
   "cell_type": "code",
   "execution_count": null,
   "metadata": {},
   "outputs": [],
   "source": [
    "from random import shuffle\n",
    "# to avoid hidden bias\n",
    "\n",
    "shuffle(dataset)"
   ]
  },
  {
   "cell_type": "code",
   "execution_count": null,
   "metadata": {},
   "outputs": [],
   "source": [
    "data=[]\n",
    "target=[]\n",
    "\n",
    "for img,label in dataset:\n",
    "    \n",
    "    data.append(img)\n",
    "    target.append(label)\n",
    "    \n",
    "# converting numpy List to numpy Array\n",
    "data=np.array(data)\n",
    "target=np.array(target)\n",
    "\n",
    "data=data.reshape(data.shape[0],size,size,1)\n",
    "\n",
    "from keras.utils import np_utils\n",
    "\n",
    "target=np.utils.to_categorical(target)\n"
   ]
  },
  {
   "cell_type": "code",
   "execution_count": null,
   "metadata": {},
   "outputs": [],
   "source": [
    "print(data.shape)\n",
    "print(target.shape)"
   ]
  },
  {
   "cell_type": "code",
   "execution_count": null,
   "metadata": {},
   "outputs": [],
   "source": [
    "np.save('data',data)\n",
    "np.save('target',target)"
   ]
  },
  {
   "cell_type": "code",
   "execution_count": null,
   "metadata": {},
   "outputs": [],
   "source": []
  }
 ],
 "metadata": {
  "kernelspec": {
   "display_name": "Python 3",
   "language": "python",
   "name": "python3"
  },
  "language_info": {
   "codemirror_mode": {
    "name": "ipython",
    "version": 3
   },
   "file_extension": ".py",
   "mimetype": "text/x-python",
   "name": "python",
   "nbconvert_exporter": "python",
   "pygments_lexer": "ipython3",
   "version": "3.7.4"
  }
 },
 "nbformat": 4,
 "nbformat_minor": 2
}
